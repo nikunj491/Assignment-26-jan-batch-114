{
 "cells": [
  {
   "cell_type": "code",
   "execution_count": 1,
   "id": "18431e62-4df2-424f-a165-7e4b789082dd",
   "metadata": {},
   "outputs": [
    {
     "name": "stdout",
     "output_type": "stream",
     "text": [
      "Welcome to the world of Python\n"
     ]
    }
   ],
   "source": [
    "#1.Store a message in a variable, and then print that message\n",
    "text = \"Welcome to the world of Python\"\n",
    "print(text)"
   ]
  },
  {
   "cell_type": "code",
   "execution_count": 4,
   "id": "9bc20a82-7c8e-4aa7-9b9f-b9aa5368a4a2",
   "metadata": {},
   "outputs": [
    {
     "name": "stdout",
     "output_type": "stream",
     "text": [
      "python is simple and easy\n",
      "python is scripting language\n"
     ]
    }
   ],
   "source": [
    "#2.Store a message in a variable and print that message. Then change the value of your variable to a new message and print the new message\n",
    "msg1 = \"python is simple and easy\"\n",
    "print(msg1)\n",
    "msg1 = \"python is scripting language\"\n",
    "print(msg1)"
   ]
  },
  {
   "cell_type": "code",
   "execution_count": 6,
   "id": "248b312f-d960-409a-89af-1141e91bd4c6",
   "metadata": {},
   "outputs": [
    {
     "name": "stdout",
     "output_type": "stream",
     "text": [
      "Hello Eric, would you like to learn some python today\n"
     ]
    }
   ],
   "source": [
    "#3.Store a person’s name in a variable and print a message to that person\n",
    "name = \"Eric\"\n",
    "print(f\"Hello {name}, would you like to learn some python today\")"
   ]
  },
  {
   "cell_type": "code",
   "execution_count": 10,
   "id": "f7dc34c8-2909-4c43-9b2b-c942c360c1f5",
   "metadata": {},
   "outputs": [
    {
     "name": "stdout",
     "output_type": "stream",
     "text": [
      "Elluid Kipchoge once said, \"Only the disciplined ones are free in life\"\n"
     ]
    }
   ],
   "source": [
    "#4.Find a quote from a famous person you admire. Print the quote and the name of its author\n",
    "print('Elluid Kipchoge once said, \"Only the disciplined ones are free in life\"')"
   ]
  },
  {
   "cell_type": "code",
   "execution_count": 16,
   "id": "db5e5bca-3dcc-43e2-bbda-745948b12380",
   "metadata": {},
   "outputs": [
    {
     "name": "stdout",
     "output_type": "stream",
     "text": [
      "Elluid Kipchoge \" Once said,\" Only the disciplined ones are free in life\"\n"
     ]
    }
   ],
   "source": [
    "#5.Repeat Exercise 4, but this time store the famous person’s name in a variable called famous_person.\n",
    "#compose your message and store it in a new variable called message. Print your message\n",
    "famous_person = \"Elluid Kipchoge\"\n",
    "message = '\" Once said,\" Only the disciplined ones are free in life\"'\n",
    "print(f\"{famous_person} {message}\")"
   ]
  },
  {
   "cell_type": "code",
   "execution_count": 19,
   "id": "b7a9352e-eb36-41bb-b451-8972610a8b76",
   "metadata": {},
   "outputs": [
    {
     "name": "stdout",
     "output_type": "stream",
     "text": [
      "8\n",
      "8\n",
      "8\n",
      "8\n"
     ]
    }
   ],
   "source": [
    "#6.Write addition, subtraction, multiplication, and division operations that each result in the number 8\n",
    "# Be sure to enclose your operations in print statements to see the results\n",
    "#You should create four lines that look like this:    print (5 + 3) \n",
    "print (5 + 3)\n",
    "print ( 10 - 2 )\n",
    "print ( 4 * 2 )\n",
    "print ( 16 // 2 )"
   ]
  },
  {
   "cell_type": "code",
   "execution_count": 20,
   "id": "2b9c8e18-1fc3-4488-885f-d781a614bf7d",
   "metadata": {},
   "outputs": [
    {
     "name": "stdout",
     "output_type": "stream",
     "text": [
      "My favourite number is 28\n"
     ]
    }
   ],
   "source": [
    "#7.Store your favourite number in a variable.Then, using that variable, create a message that \n",
    "#reveals your favourite number. Print that message. \n",
    "fav_num = 28\n",
    "print(f\"My favourite number is {fav_num}\")"
   ]
  },
  {
   "cell_type": "code",
   "execution_count": 8,
   "id": "aa37e992-7d90-4ba4-97e4-1ccb1627a7c2",
   "metadata": {},
   "outputs": [
    {
     "name": "stdout",
     "output_type": "stream",
     "text": [
      "Himanshu\n",
      "Pravin\n",
      "Hannah\n",
      "Umang\n",
      "Harsh\n"
     ]
    }
   ],
   "source": [
    "#8. Store the names of a few of your friends in a list called names. Print each \n",
    "#person’s name by accessing each element in the list, one at a time.\n",
    "names = ['Himanshu','Pravin','Hannah','Umang','Harsh']\n",
    "print(names[0])\n",
    "print(names[1])\n",
    "print(names[2])\n",
    "print(names[3])\n",
    "print(names[4])"
   ]
  },
  {
   "cell_type": "code",
   "execution_count": 11,
   "id": "b2ddbc20-2efc-4c04-b24a-eb822be60c11",
   "metadata": {},
   "outputs": [
    {
     "name": "stdout",
     "output_type": "stream",
     "text": [
      "welcome Himanshu to the world of Python\n",
      "welcome Pravin to the world of Python\n",
      "welcome Hannah to the world of Python\n",
      "welcome Umang to the world of Python\n",
      "welcome Harsh to the world of Python\n"
     ]
    }
   ],
   "source": [
    "#9. Start with the list you used in Exercise 9, but instead of just printing each \n",
    "#person’s name, print a message to them. The text of each message should \n",
    "#be the same, but each message should be personalized with the person’s name.\n",
    "print(f\"welcome {names[0]} to the world of Python\")\n",
    "print(f\"welcome {names[1]} to the world of Python\")\n",
    "print(f\"welcome {names[2]} to the world of Python\")\n",
    "print(f\"welcome {names[3]} to the world of Python\")\n",
    "print(f\"welcome {names[4]} to the world of Python\")"
   ]
  },
  {
   "cell_type": "code",
   "execution_count": 13,
   "id": "4c158cbc-9fdc-4b27-ac72-68b824a20166",
   "metadata": {},
   "outputs": [
    {
     "name": "stdout",
     "output_type": "stream",
     "text": [
      "I use Activa for my daily work\n",
      "For the long ride I prefer Bullet\n",
      "For offroading Thar is a great car\n",
      "City rides are quite confort in MG comet\n"
     ]
    }
   ],
   "source": [
    "#10. Think of your favourite mode of transportation, such as a motorcycle or a \n",
    "#car, and make a list that stores several examples. Use your list to print a \n",
    "#series of statements about these items, such as “I would like to own a Honda motorcycle.” \n",
    "fav_vehicle = [\"Activa\",\"Bullet\",\"Thar\",\"Fortuner\",\"MG comet\"]\n",
    "print(f\"I use {fav_vehicle[0]} for my daily work\")\n",
    "print(f\"For the long ride I prefer {fav_vehicle[1]}\")\n",
    "print(f\"For offroading {fav_vehicle[2]} is a great car\")\n",
    "print(f\"City rides are quite confort in {fav_vehicle[4]}\")\n"
   ]
  },
  {
   "cell_type": "code",
   "execution_count": null,
   "id": "c4fda7d7-2acb-49e3-b47c-569ab96c6ee3",
   "metadata": {},
   "outputs": [],
   "source": []
  }
 ],
 "metadata": {
  "kernelspec": {
   "display_name": "Python [conda env:base] *",
   "language": "python",
   "name": "conda-base-py"
  },
  "language_info": {
   "codemirror_mode": {
    "name": "ipython",
    "version": 3
   },
   "file_extension": ".py",
   "mimetype": "text/x-python",
   "name": "python",
   "nbconvert_exporter": "python",
   "pygments_lexer": "ipython3",
   "version": "3.13.5"
  }
 },
 "nbformat": 4,
 "nbformat_minor": 5
}
